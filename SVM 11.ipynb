{
 "cells": [
  {
   "cell_type": "code",
   "execution_count": null,
   "id": "6be30066-e1ff-41f6-a11b-492c881a5de8",
   "metadata": {},
   "outputs": [],
   "source": []
  }
 ],
 "metadata": {
  "kernelspec": {
   "display_name": "",
   "name": ""
  },
  "language_info": {
   "name": ""
  }
 },
 "nbformat": 4,
 "nbformat_minor": 5
}
